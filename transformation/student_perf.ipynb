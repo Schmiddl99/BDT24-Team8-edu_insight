{
 "cells": [
  {
   "cell_type": "code",
   "execution_count": null,
   "metadata": {},
   "outputs": [],
   "source": [
    "import dask.dataframe as dd\n",
    "import pandas as pd\n",
    "import duckdb\n",
    "\n",
    "pd.set_option('future.no_silent_downcasting', True)\n",
    "pd.options.display.max_columns = None"
   ]
  },
  {
   "cell_type": "code",
   "execution_count": null,
   "metadata": {},
   "outputs": [],
   "source": [
    "path_mat = \"Data/Predict_student_performance/student-mat.csv\"\n",
    "path_por = \"Data/Predict_student_performance/student-por.csv\""
   ]
  },
  {
   "cell_type": "code",
   "execution_count": null,
   "metadata": {},
   "outputs": [],
   "source": [
    "df_mat = dd.read_csv(path=path_mat, sep=\";\")\n",
    "#df_mat.compute()"
   ]
  },
  {
   "cell_type": "code",
   "execution_count": null,
   "metadata": {},
   "outputs": [],
   "source": [
    "df_por = dd.read_csv(path=path_por, sep=\";\")\n",
    "#df_por.compute()"
   ]
  },
  {
   "cell_type": "code",
   "execution_count": null,
   "metadata": {},
   "outputs": [],
   "source": [
    "dfs = [df_mat, df_por]"
   ]
  },
  {
   "cell_type": "code",
   "execution_count": null,
   "metadata": {},
   "outputs": [],
   "source": [
    "keep_columns=['sex', 'age', 'studytime', 'higher', 'absences', 'G1', 'G2', 'G3']\n",
    "conv_columns=['sex', 'higher']\n",
    "replace_dict={'F': 0, 'M': 1, 'yes': 1, 'no': 0}\n",
    "transformed_dfs = []                                      # List to store transf. data frames"
   ]
  },
  {
   "cell_type": "code",
   "execution_count": null,
   "metadata": {},
   "outputs": [],
   "source": [
    "def transform_dfs (dfs, keep_columns, replace_dict, conv_columns):\n",
    "    \n",
    "    for df in dfs:\n",
    "        df = df[keep_columns]                               # selecting the only columns necessary \n",
    "        df = df.replace(replace_dict)                       # replace genders and higher edu values with 0s and 1s\n",
    "        df = df.dropna()\n",
    "\n",
    "        for column in conv_columns:\n",
    "            df[column] = df[column].astype('bool')          # change dtype to boolean\n",
    "\n",
    "        # print(df.compute())\n",
    "        # print(df.dtypes)\n",
    "\n",
    "        transformed_dfs.append(df.compute())                # build list of transformed data frames\n",
    "    \n",
    "    return transformed_dfs"
   ]
  },
  {
   "cell_type": "code",
   "execution_count": null,
   "metadata": {},
   "outputs": [],
   "source": [
    "transform_dfs(dfs=dfs, keep_columns=keep_columns, replace_dict=replace_dict, conv_columns=conv_columns)"
   ]
  },
  {
   "cell_type": "code",
   "execution_count": null,
   "metadata": {},
   "outputs": [],
   "source": [
    "# concatenate data frames\n",
    "\n",
    "student_perf = dd.concat(transformed_dfs)\n",
    "# print(student_perf.compute()"
   ]
  }
 ],
 "metadata": {
  "kernelspec": {
   "display_name": "Python 3",
   "language": "python",
   "name": "python3"
  },
  "language_info": {
   "codemirror_mode": {
    "name": "ipython",
    "version": 3
   },
   "file_extension": ".py",
   "mimetype": "text/x-python",
   "name": "python",
   "nbconvert_exporter": "python",
   "pygments_lexer": "ipython3",
   "version": "3.11.2"
  }
 },
 "nbformat": 4,
 "nbformat_minor": 2
}
